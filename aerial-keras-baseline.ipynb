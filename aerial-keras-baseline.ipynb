{
 "cells": [
  {
   "cell_type": "code",
   "execution_count": 1,
   "metadata": {
    "_cell_guid": "b1076dfc-b9ad-4769-8c92-a6c4dae69d19",
    "_uuid": "8f2839f25d086af736a60e9eeb907d3b93b6e0e5"
   },
   "outputs": [
    {
     "name": "stderr",
     "output_type": "stream",
     "text": [
      "Using TensorFlow backend.\n"
     ]
    }
   ],
   "source": [
    "import pandas as pd\n",
    "import numpy as np\n",
    "from PIL import Image\n",
    "from tqdm import tqdm\n",
    "\n",
    "from keras.preprocessing.image import ImageDataGenerator #keras的数据增强类\n",
    "from keras.layers import Conv2D, MaxPool2D, Dropout, BatchNormalization, Dense, Activation, GlobalAveragePooling2D\n",
    "from keras.models import Model,Sequential\n",
    "from keras.regularizers import l2"
   ]
  },
  {
   "cell_type": "code",
   "execution_count": 2,
   "metadata": {
    "_cell_guid": "79c7e3d0-c299-4dcb-8224-4455121ee9b0",
    "_uuid": "d629ff2d2480ee46fbb7e2d37f6b5fab8052498a"
   },
   "outputs": [],
   "source": [
    "#导入数据，数据增强，划分训练集和验证集\n",
    "def load_data(data=None, batch_size=32, mode='categorical'):\n",
    "    if data is None:\n",
    "        data = pd.read_csv('../input/train.csv')\n",
    "    data['has_cactus'] = data['has_cactus'].astype('str')\n",
    "    \n",
    "    gen = ImageDataGenerator(rescale=1./255, horizontal_flip=True, vertical_flip=True, validation_split=0.1)\n",
    "    \n",
    "    trainGen = gen.flow_from_dataframe(data, directory='../input/train/train', x_col='id', y_col='has_cactus', has_ext=True, target_size=(32, 32),\n",
    "                                      class_mode=mode, batch_size=batch_size, shuffle=True, subset='training')\n",
    "    validGen = gen.flow_from_dataframe(data, directory='../input/train/train', x_col='id', y_col='has_cactus', has_ext=True, target_size=(32, 32),\n",
    "                                      class_mode=mode, batch_size=batch_size, shuffle=True, subset='validation')\n",
    "    return trainGen, validGen\n",
    "    "
   ]
  },
  {
   "cell_type": "code",
   "execution_count": 3,
   "metadata": {
    "_uuid": "90f7bf2a9c314421ecc32c87299d7fa801ce70c7"
   },
   "outputs": [],
   "source": [
    "def base_model():\n",
    "    model = Sequential()\n",
    "    \n",
    "    model.add(Conv2D(32, (3, 3), input_shape=(32, 32, 3), padding='same', use_bias=False, kernel_regularizer=l2(1e-4)))\n",
    "    model.add(BatchNormalization())\n",
    "    model.add(Activation('relu'))\n",
    "    model.add(Conv2D(32, (3, 3), padding='same', use_bias=False, kernel_regularizer=l2(1e-4)))\n",
    "    model.add(BatchNormalization())\n",
    "    model.add(Activation('relu'))\n",
    "    model.add(Conv2D(32, (3, 3), padding='same', use_bias=False, kernel_regularizer=l2(1e-4)))\n",
    "    model.add(BatchNormalization())\n",
    "    model.add(Activation('relu'))\n",
    "    model.add(MaxPool2D())\n",
    "    \n",
    "    model.add(Conv2D(64, (3, 3), padding='same', use_bias=False, kernel_regularizer=l2(1e-4)))\n",
    "    model.add(BatchNormalization())\n",
    "    model.add(Activation('relu'))\n",
    "    model.add(Conv2D(64, (3, 3), padding='same', use_bias=False, kernel_regularizer=l2(1e-4)))\n",
    "    model.add(BatchNormalization())\n",
    "    model.add(Activation('relu'))\n",
    "    model.add(Conv2D(64, (3, 3), padding='same', use_bias=False, kernel_regularizer=l2(1e-4)))\n",
    "    model.add(BatchNormalization())\n",
    "    model.add(Activation('relu'))\n",
    "    model.add(MaxPool2D())\n",
    "\n",
    "    model.add(Conv2D(128, (3, 3), padding='same', use_bias=False, kernel_regularizer=l2(1e-4)))\n",
    "    model.add(BatchNormalization())\n",
    "    model.add(Activation('relu'))\n",
    "    model.add(Conv2D(128, (3, 3), padding='same', use_bias=False, kernel_regularizer=l2(1e-4)))\n",
    "    model.add(BatchNormalization())\n",
    "    model.add(Activation('relu'))\n",
    "    model.add(Conv2D(128, (3, 3), padding='same', use_bias=False, kernel_regularizer=l2(1e-4)))\n",
    "    model.add(BatchNormalization())\n",
    "    model.add(Activation('relu'))\n",
    "    model.add(MaxPool2D())\n",
    "    \n",
    "    model.add(GlobalAveragePooling2D())\n",
    "    model.add(Dense(2, activation='softmax'))\n",
    "    \n",
    "    return model"
   ]
  },
  {
   "cell_type": "code",
   "execution_count": 4,
   "metadata": {
    "_uuid": "d7c302e368fb32ad0b48a04adb91bd8bdabda6b9"
   },
   "outputs": [],
   "source": [
    "from keras.optimizers import Adam, SGD\n",
    "from keras.callbacks import CSVLogger, ModelCheckpoint, ReduceLROnPlateau\n",
    "\n",
    "def train_model():\n",
    "    batch_size = 32\n",
    "    trainGen, validGen = load_data(batch_size=batch_size)\n",
    "    model = base_model()\n",
    "    \n",
    "    opt = Adam(1e-3)\n",
    "    model.compile(loss='categorical_crossentropy', optimizer=opt, metrics=['accuracy'])\n",
    "    cbs = [ReduceLROnPlateau(monitor='loss', factor=0.5, patience=1, min_lr=1e-5, verbose=1)]\n",
    "    model.fit_generator(trainGen, steps_per_epoch=4922, epochs=3, validation_data=validGen, validation_steps=493, shuffle=True, callbacks=cbs)\n",
    "    \n",
    "    return model"
   ]
  },
  {
   "cell_type": "code",
   "execution_count": 5,
   "metadata": {
    "_uuid": "010dc21c461f0a09027526337f027e083dd2336e"
   },
   "outputs": [],
   "source": [
    "def predict_model():\n",
    "    test_data = pd.read_csv('../input/sample_submission.csv')\n",
    "    pred = np.empty((test_data.shape[0],))\n",
    "    for n in tqdm(range(test_data.shape[0])):\n",
    "        data = np.array(Image.open('../input/test/test/'+test_data.id[n]))\n",
    "        data = data.astype(np.float32) / 255.\n",
    "        pred[n] = model.predict(data.reshape((1, 32, 32, 3)))[0][1]\n",
    "        \n",
    "    test_data['has_cactus'] = pred\n",
    "    test_data.to_csv('sample_submission.csv', index=False)"
   ]
  },
  {
   "cell_type": "code",
   "execution_count": 6,
   "metadata": {
    "_uuid": "038d06c1fa708f5c06784e924dce55eff57d4e14"
   },
   "outputs": [
    {
     "name": "stdout",
     "output_type": "stream",
     "text": [
      "Found 15750 images belonging to 2 classes.\n",
      "Found 1750 images belonging to 2 classes.\n",
      "WARNING:tensorflow:From /opt/conda/lib/python3.6/site-packages/tensorflow/python/framework/op_def_library.py:263: colocate_with (from tensorflow.python.framework.ops) is deprecated and will be removed in a future version.\n",
      "Instructions for updating:\n",
      "Colocations handled automatically by placer.\n",
      "WARNING:tensorflow:From /opt/conda/lib/python3.6/site-packages/tensorflow/python/ops/math_ops.py:3066: to_int32 (from tensorflow.python.ops.math_ops) is deprecated and will be removed in a future version.\n",
      "Instructions for updating:\n",
      "Use tf.cast instead.\n",
      "Epoch 1/3\n",
      "4922/4922 [==============================] - 223s 45ms/step - loss: 0.0755 - acc: 0.9857 - val_loss: 0.0986 - val_acc: 0.9729\n",
      "Epoch 2/3\n",
      "4922/4922 [==============================] - 217s 44ms/step - loss: 0.0371 - acc: 0.9957 - val_loss: 0.5164 - val_acc: 0.9052\n",
      "Epoch 3/3\n",
      "1748/4922 [=========>....................] - ETA: 2:16 - loss: 0.0295 - acc: 0.9973"
     ]
    }
   ],
   "source": [
    "model = train_model()"
   ]
  },
  {
   "cell_type": "code",
   "execution_count": 7,
   "metadata": {
    "_uuid": "01415006cd1f8cd87da907c3f75b23f37b999c4c"
   },
   "outputs": [
    {
     "name": "stderr",
     "output_type": "stream",
     "text": [
      "100%|██████████| 4000/4000 [00:11<00:00, 349.36it/s]\n"
     ]
    }
   ],
   "source": [
    "predict_model()"
   ]
  }
 ],
 "metadata": {
  "kernelspec": {
   "display_name": "Python 3",
   "language": "python",
   "name": "python3"
  },
  "language_info": {
   "codemirror_mode": {
    "name": "ipython",
    "version": 3
   },
   "file_extension": ".py",
   "mimetype": "text/x-python",
   "name": "python",
   "nbconvert_exporter": "python",
   "pygments_lexer": "ipython3",
   "version": "3.6.6"
  }
 },
 "nbformat": 4,
 "nbformat_minor": 1
}
